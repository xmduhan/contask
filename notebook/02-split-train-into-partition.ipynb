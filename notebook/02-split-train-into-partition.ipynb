{
 "cells": [
  {
   "cell_type": "code",
   "execution_count": 1,
   "metadata": {},
   "outputs": [],
   "source": [
    "from startup import *\n",
    "from scipy.spatial.distance import squareform, pdist"
   ]
  },
  {
   "cell_type": "code",
   "execution_count": 42,
   "metadata": {},
   "outputs": [],
   "source": [
    "columns = ['agree_id', 'content', 'class']"
   ]
  },
  {
   "cell_type": "code",
   "execution_count": 2,
   "metadata": {},
   "outputs": [],
   "source": [
    "df = pd.read_csv('data/train.csv', encoding='utf-8')\n",
    "df.columns = map(lambda x: x.lower(), df.columns)\n",
    "df = df[df['proc_type_path'].notnull()]\n",
    "df = df[df['content'].notnull()]\n",
    "df = df[df['class'] != u'剔除']\n",
    "df['content'] = u'类型: ' + df['proc_type_path'] + u'号码: ' + df['obstacle_servnbr'] + ' ' + df['content']"
   ]
  },
  {
   "cell_type": "code",
   "execution_count": 3,
   "metadata": {},
   "outputs": [],
   "source": [
    "stat = df.groupby('proc_type_path')['agree_id'].count()\n",
    "path_to_id = {row['proc_type_path']: i for i, row in stat.reset_index().iterrows()}\n",
    "df['partition'] = df['proc_type_path'].apply(lambda x: path_to_id[x])\n",
    "df['flag'] = 1"
   ]
  },
  {
   "cell_type": "code",
   "execution_count": 7,
   "metadata": {},
   "outputs": [],
   "source": [
    "partition_min_size = 50000\n",
    "while True:\n",
    "    pivot = df.pivot_table(index='partition', columns='class', values='flag', aggfunc=sum, fill_value=0)\n",
    "    print 'len(pivot)=%d :' % len(pivot),\n",
    "    count = pivot.sum(axis=1)\n",
    "    print 'count.min()=%d :' % count.min(),\n",
    "    if count.min() >= partition_min_size:\n",
    "        break\n",
    "    weights = pivot.div(count, axis=0)\n",
    "    distance_matrix = pd.DataFrame(\n",
    "        squareform(pdist(weights)), columns=weights.index.unique(), index=weights.index.unique())\n",
    "    sub_idx = count.idxmin()\n",
    "    distance = distance_matrix[sub_idx]\n",
    "    main_idx = distance[distance.index != sub_idx].idxmin()\n",
    "    print sub_idx, '-->', main_idx\n",
    "    df['partition'] = df['partition'].apply(lambda x: main_idx if x == sub_idx else x)"
   ]
  },
  {
   "cell_type": "code",
   "execution_count": 10,
   "metadata": {},
   "outputs": [],
   "source": [
    "pivot = df.pivot_table(index='partition', columns='class', values='flag', aggfunc=sum, fill_value=0)\n",
    "count = pivot.sum(axis=1)\n",
    "weights = pivot.div(count, axis=0)"
   ]
  },
  {
   "cell_type": "code",
   "execution_count": 58,
   "metadata": {},
   "outputs": [
    {
     "name": "stdout",
     "output_type": "stream",
     "text": [
      "Mkdir data/0 ...  (ok)\n",
      "Mkdir data/1 ...  (ok)\n",
      "Mkdir data/2 ...  (ok)\n",
      "Mkdir data/3 ...  (ok)\n",
      "Mkdir data/4 ...  (ok)\n",
      "Mkdir data/5 ...  (ok)\n",
      "Mkdir data/6 ...  (ok)\n",
      "Mkdir data/7 ...  (ok)\n",
      "Mkdir data/8 ...  (ok)\n",
      "Mkdir data/9 ...  (ok)\n",
      "Mkdir data/10 ...  (ok)\n"
     ]
    }
   ],
   "source": [
    "for i, p in df['partition'].drop_duplicates().reset_index(drop=True).iteritems():\n",
    "    partition_data = df[df['partition'] == p].reset_index(drop=True)[columns]\n",
    "    path = 'data/%s' % str(i)\n",
    "    if not os.path.exists(path):\n",
    "        print 'Mkdir %s ... ' % path,\n",
    "        os.makedirs(path)\n",
    "        print '(ok)'\n",
    "    partition_data.to_csv('%s/train.csv' % path, encoding='utf-8', index=False)"
   ]
  }
 ],
 "metadata": {
  "kernelspec": {
   "display_name": "Python 2",
   "language": "python",
   "name": "python2"
  },
  "language_info": {
   "codemirror_mode": {
    "name": "ipython",
    "version": 2
   },
   "file_extension": ".py",
   "mimetype": "text/x-python",
   "name": "python",
   "nbconvert_exporter": "python",
   "pygments_lexer": "ipython2",
   "version": "2.7.12"
  }
 },
 "nbformat": 4,
 "nbformat_minor": 2
}
