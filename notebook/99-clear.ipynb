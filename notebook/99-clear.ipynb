{
 "cells": [
  {
   "cell_type": "code",
   "execution_count": 1,
   "metadata": {},
   "outputs": [],
   "source": [
    "from startup import *\n",
    "from os import listdir\n",
    "from os.path import isdir, join\n",
    "import shutil"
   ]
  },
  {
   "cell_type": "code",
   "execution_count": 2,
   "metadata": {},
   "outputs": [],
   "source": [
    "def clear(dir_name):\n",
    "    for i in listdir(dir_name):\n",
    "        path = join(dir_name, i)\n",
    "        if isdir(path):\n",
    "            print 'Remove %s ...' % path,\n",
    "            shutil.rmtree(path, ignore_errors=True)\n",
    "            print '(ok)'"
   ]
  },
  {
   "cell_type": "code",
   "execution_count": 3,
   "metadata": {},
   "outputs": [
    {
     "name": "stdout",
     "output_type": "stream",
     "text": [
      "Remove data/4 ... (ok)\n",
      "Remove data/1 ... (ok)\n",
      "Remove data/7 ... (ok)\n",
      "Remove data/2 ... (ok)\n",
      "Remove data/3 ... (ok)\n",
      "Remove data/0 ... (ok)\n",
      "Remove data/6 ... (ok)\n",
      "Remove data/5 ... (ok)\n"
     ]
    }
   ],
   "source": [
    "clear('data')\n",
    "clear('model')"
   ]
  }
 ],
 "metadata": {
  "kernelspec": {
   "display_name": "Python 2",
   "language": "python",
   "name": "python2"
  },
  "language_info": {
   "codemirror_mode": {
    "name": "ipython",
    "version": 2
   },
   "file_extension": ".py",
   "mimetype": "text/x-python",
   "name": "python",
   "nbconvert_exporter": "python",
   "pygments_lexer": "ipython2",
   "version": "2.7.12"
  }
 },
 "nbformat": 4,
 "nbformat_minor": 2
}
