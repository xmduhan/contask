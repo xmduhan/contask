{
 "cells": [
  {
   "cell_type": "code",
   "execution_count": 1,
   "metadata": {},
   "outputs": [],
   "source": [
    "from startup import *"
   ]
  },
  {
   "cell_type": "code",
   "execution_count": 2,
   "metadata": {},
   "outputs": [],
   "source": [
    "df = pd.read_csv('data/original_data.csv', encoding='utf-8')\n",
    "df.columns = map(lambda x: x.lower(), df.columns)\n",
    "df = df[df['proc_type_path'].notnull()]\n",
    "df = df[df['content'].notnull()]\n",
    "df = df[df['class'] != u'剔除']\n",
    "df['content'] = u'类型: ' + df['proc_type_path'] + u'号码: ' + df['obstacle_servnbr'] + ' ' + df['content']\n",
    "df = df[['agree_id', 'proc_type_path', 'content', 'class']]\n",
    "df.to_csv('data/data.csv', encoding='utf-8', index=False)"
   ]
  }
 ],
 "metadata": {
  "kernelspec": {
   "display_name": "Python 2",
   "language": "python",
   "name": "python2"
  },
  "language_info": {
   "codemirror_mode": {
    "name": "ipython",
    "version": 2
   },
   "file_extension": ".py",
   "mimetype": "text/x-python",
   "name": "python",
   "nbconvert_exporter": "python",
   "pygments_lexer": "ipython2",
   "version": "2.7.12"
  }
 },
 "nbformat": 4,
 "nbformat_minor": 2
}
